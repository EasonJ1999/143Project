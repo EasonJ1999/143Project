{
 "cells": [
  {
   "cell_type": "code",
   "execution_count": 1,
   "id": "80983db0",
   "metadata": {},
   "outputs": [],
   "source": [
    "import pandas as pd\n",
    "import matplotlib as mpl\n",
    "import matplotlib.pyplot as plt\n",
    "import warnings\n",
    "import seaborn as sns\n",
    "import calendar as cd"
   ]
  },
  {
   "cell_type": "code",
   "execution_count": 2,
   "id": "394d3e61",
   "metadata": {},
   "outputs": [
    {
     "name": "stdout",
     "output_type": "stream",
     "text": [
      "(2060948, 8)\n",
      "<class 'pandas.core.frame.DataFrame'>\n",
      "RangeIndex: 2060948 entries, 0 to 2060947\n",
      "Data columns (total 8 columns):\n",
      " #   Column          Dtype  \n",
      "---  ------          -----  \n",
      " 0   TIME OCC        int64  \n",
      " 1   Crm Cd          int64  \n",
      " 2   Crm Cd Desc     object \n",
      " 3   Weapon Used Cd  float64\n",
      " 4   Weapon Desc     object \n",
      " 5   DATE            object \n",
      " 6   WEEK            object \n",
      " 7   DAYTIME         object \n",
      "dtypes: float64(1), int64(2), object(5)\n",
      "memory usage: 125.8+ MB\n"
     ]
    },
    {
     "data": {
      "text/plain": [
       "TIME OCC                0\n",
       "Crm Cd                  0\n",
       "Crm Cd Desc             0\n",
       "Weapon Used Cd    1357983\n",
       "Weapon Desc       1357984\n",
       "DATE                    0\n",
       "WEEK                    0\n",
       "DAYTIME                 0\n",
       "dtype: int64"
      ]
     },
     "execution_count": 2,
     "metadata": {},
     "output_type": "execute_result"
    }
   ],
   "source": [
    "data=pd.read_csv(\"data/Crime_Data_from_2010_to_2019.csv\")\n",
    "print(data.shape)\n",
    "data.info()\n",
    "data.isnull().sum(axis=0)"
   ]
  },
  {
   "cell_type": "code",
   "execution_count": 38,
   "id": "f21aebf6",
   "metadata": {},
   "outputs": [
    {
     "name": "stdout",
     "output_type": "stream",
     "text": [
      "<class 'pandas.core.frame.DataFrame'>\n",
      "RangeIndex: 2060948 entries, 0 to 2060947\n",
      "Data columns (total 6 columns):\n",
      " #   Column          Dtype  \n",
      "---  ------          -----  \n",
      " 0   DATE OCC        object \n",
      " 1   TIME OCC        int64  \n",
      " 2   Crm Cd          int64  \n",
      " 3   Crm Cd Desc     object \n",
      " 4   Weapon Used Cd  float64\n",
      " 5   Weapon Desc     object \n",
      "dtypes: float64(1), int64(2), object(3)\n",
      "memory usage: 94.3+ MB\n"
     ]
    }
   ],
   "source": [
    "data['DATE OCC'] = data['DATE OCC'].astype(str)\n",
    "data.info()"
   ]
  },
  {
   "cell_type": "code",
   "execution_count": 54,
   "id": "3967c04c",
   "metadata": {},
   "outputs": [
    {
     "name": "stdout",
     "output_type": "stream",
     "text": [
      "0          02/20/2010 12:00:00 AM\n",
      "1          09/12/2010 12:00:00 AM\n",
      "2          08/09/2010 12:00:00 AM\n",
      "3          01/05/2010 12:00:00 AM\n",
      "4          01/02/2010 12:00:00 AM\n",
      "                    ...          \n",
      "2060943    03/28/2019 12:00:00 AM\n",
      "2060944    08/14/2019 12:00:00 AM\n",
      "2060945    01/06/2019 12:00:00 AM\n",
      "2060946    10/16/2019 12:00:00 AM\n",
      "2060947    02/01/2019 12:00:00 AM\n",
      "Name: DATE OCC, Length: 2060948, dtype: object\n"
     ]
    }
   ],
   "source": [
    "for i in data['DATE OCC']:\n",
    "    i=i[0:10]\n",
    "    #print(i)\n",
    "print(data['DATE OCC'])"
   ]
  },
  {
   "cell_type": "code",
   "execution_count": 61,
   "id": "69264087",
   "metadata": {},
   "outputs": [
    {
     "name": "stdout",
     "output_type": "stream",
     "text": [
      "<class 'pandas.core.frame.DataFrame'>\n",
      "RangeIndex: 2060948 entries, 0 to 2060947\n",
      "Data columns (total 6 columns):\n",
      " #   Column          Dtype  \n",
      "---  ------          -----  \n",
      " 0   DATE OCC        object \n",
      " 1   TIME OCC        int64  \n",
      " 2   Crm Cd          int64  \n",
      " 3   Crm Cd Desc     object \n",
      " 4   Weapon Used Cd  float64\n",
      " 5   DATE            object \n",
      "dtypes: float64(1), int64(2), object(3)\n",
      "memory usage: 94.3+ MB\n"
     ]
    }
   ],
   "source": [
    "a=[]\n",
    "for i in data1['DATE OCC']:\n",
    "    a.append(i[0:10])\n",
    "data1['DATE']=a\n",
    "data1.info()"
   ]
  },
  {
   "cell_type": "code",
   "execution_count": 62,
   "id": "7e6afa73",
   "metadata": {},
   "outputs": [
    {
     "name": "stdout",
     "output_type": "stream",
     "text": [
      "<class 'pandas.core.frame.DataFrame'>\n",
      "RangeIndex: 2060948 entries, 0 to 2060947\n",
      "Data columns (total 5 columns):\n",
      " #   Column          Dtype  \n",
      "---  ------          -----  \n",
      " 0   TIME OCC        int64  \n",
      " 1   Crm Cd          int64  \n",
      " 2   Crm Cd Desc     object \n",
      " 3   Weapon Used Cd  float64\n",
      " 4   DATE            object \n",
      "dtypes: float64(1), int64(2), object(2)\n",
      "memory usage: 78.6+ MB\n"
     ]
    }
   ],
   "source": [
    "data1=data1.drop(['DATE OCC'],axis=1)\n",
    "data1.info()"
   ]
  },
  {
   "cell_type": "code",
   "execution_count": 63,
   "id": "6044994f",
   "metadata": {},
   "outputs": [],
   "source": [
    "data1.to_csv(\"data/Crime_Data_from_2010_to_2019_time.csv\",index=0)"
   ]
  },
  {
   "cell_type": "code",
   "execution_count": 7,
   "id": "bbb505e8",
   "metadata": {},
   "outputs": [
    {
     "name": "stdout",
     "output_type": "stream",
     "text": [
      "<class 'pandas.core.frame.DataFrame'>\n",
      "RangeIndex: 2060948 entries, 0 to 2060947\n",
      "Data columns (total 7 columns):\n",
      " #   Column          Dtype  \n",
      "---  ------          -----  \n",
      " 0   TIME OCC        int64  \n",
      " 1   Crm Cd          int64  \n",
      " 2   Crm Cd Desc     object \n",
      " 3   Weapon Used Cd  float64\n",
      " 4   Weapon Desc     object \n",
      " 5   DATE            object \n",
      " 6   WEEK            object \n",
      "dtypes: float64(1), int64(2), object(4)\n",
      "memory usage: 110.1+ MB\n"
     ]
    }
   ],
   "source": [
    "week=[]\n",
    "\n",
    "for i in data_list:\n",
    "    year=int(i[-1][-4:])\n",
    "    month=int(i[-1][0:2])\n",
    "    day=int(i[-1][3:5])\n",
    "    if cd.weekday(year,month,day)==0:\n",
    "        week.append(\"Mon\")\n",
    "    elif cd.weekday(year,month,day)==1:\n",
    "        week.append(\"Tue\")\n",
    "    elif cd.weekday(year,month,day)==2:\n",
    "        week.append(\"Wed\")\n",
    "    elif cd.weekday(year,month,day)==3:\n",
    "        week.append(\"Thu\")\n",
    "    elif cd.weekday(year,month,day)==4:\n",
    "        week.append(\"Fri\")\n",
    "    elif cd.weekday(year,month,day)==5:\n",
    "        week.append(\"Sat\")\n",
    "    elif cd.weekday(year,month,day)==6:\n",
    "        week.append(\"Sun\")\n",
    "        \n",
    "data['WEEK']=week\n",
    "data.info()"
   ]
  },
  {
   "cell_type": "code",
   "execution_count": 3,
   "id": "4c887c8f",
   "metadata": {},
   "outputs": [],
   "source": [
    "d2010=data[data['DATE'].str.contains('2010')]\n",
    "d2011=data[data['DATE'].str.contains('2011')]\n",
    "d2012=data[data['DATE'].str.contains('2012')]\n",
    "d2013=data[data['DATE'].str.contains('2013')]\n",
    "d2014=data[data['DATE'].str.contains('2014')]\n",
    "d2015=data[data['DATE'].str.contains('2015')]\n",
    "d2016=data[data['DATE'].str.contains('2016')]\n",
    "d2017=data[data['DATE'].str.contains('2017')]\n",
    "d2018=data[data['DATE'].str.contains('2018')]\n",
    "d2019=data[data['DATE'].str.contains('2019')]\n",
    "d2020=data[data['DATE'].str.contains('2020')]\n",
    "d2021=data[data['DATE'].str.contains('2021')]\n",
    "#print(d2021.shape)"
   ]
  },
  {
   "cell_type": "code",
   "execution_count": 4,
   "id": "3fcfb212",
   "metadata": {},
   "outputs": [],
   "source": [
    "d2010.to_csv(\"data/time/year/Crime_Data_2010_time.csv\",index=0)\n",
    "d2011.to_csv(\"data/time/year/Crime_Data_2011_time.csv\",index=0)\n",
    "d2012.to_csv(\"data/time/year/Crime_Data_2012_time.csv\",index=0)\n",
    "d2013.to_csv(\"data/time/year/Crime_Data_2013_time.csv\",index=0)\n",
    "d2014.to_csv(\"data/time/year/Crime_Data_2014_time.csv\",index=0)\n",
    "d2015.to_csv(\"data/time/year/Crime_Data_2015_time.csv\",index=0)\n",
    "d2016.to_csv(\"data/time/year/Crime_Data_2016_time.csv\",index=0)\n",
    "d2017.to_csv(\"data/time/year/Crime_Data_2017_time.csv\",index=0)\n",
    "d2018.to_csv(\"data/time/year/Crime_Data_2018_time.csv\",index=0)\n",
    "d2019.to_csv(\"data/time/year/Crime_Data_2019_time.csv\",index=0)\n",
    "d2020.to_csv(\"data/time/year/Crime_Data_2020_time.csv\",index=0)\n",
    "d2021.to_csv(\"data/time/year/Crime_Data_2021_time.csv\",index=0)"
   ]
  },
  {
   "cell_type": "code",
   "execution_count": null,
   "id": "f7f44c55",
   "metadata": {},
   "outputs": [],
   "source": [
    "dmor_n=data[(data['TIME OCC']>600) & (data['TIME OCC']<=1400)]\n",
    "dafn=data[(data['TIME OCC']>1400) & (data['TIME OCC']<=2200)]\n",
    "devn=data[(data['TIME OCC']>2200) | (data['TIME OCC']<=600)]\n",
    "dmor_n.to_csv(\"data/time/day/Crime_Data_morningnoon_time.csv\",index=0)\n",
    "dafn.to_csv(\"data/time/day/Crime_Data_afternoon_time.csv\",index=0)\n",
    "devn.to_csv(\"data/time/day/Crime_Data_evening_time.csv\",index=0)"
   ]
  },
  {
   "cell_type": "code",
   "execution_count": 6,
   "id": "ee860457",
   "metadata": {},
   "outputs": [],
   "source": [
    "data_list=data.values.tolist()"
   ]
  },
  {
   "cell_type": "code",
   "execution_count": null,
   "id": "57bd9d41",
   "metadata": {},
   "outputs": [],
   "source": [
    "#print(type(data_list[1][-1][0:2]))\n",
    "spring_list=[]\n",
    "summer_list=[]\n",
    "fall_list=[]\n",
    "winter_list=[]\n",
    "\n",
    "for i in data_list:\n",
    "    if i[-1][0:2]=='03' or i[-1][0:2]=='04' or i[-1][0:2]=='05':\n",
    "        spring_list.append(i)\n",
    "    elif i[-1][0:2]=='06' or i[-1][0:2]=='07' or i[-1][0:2]=='08':\n",
    "        summer_list.append(i)\n",
    "    elif i[-1][0:2]=='09' or i[-1][0:2]=='10' or i[-1][0:2]=='11':\n",
    "        fall_list.append(i)\n",
    "    elif i[-1][0:2]=='12' or i[-1][0:2]=='01' or i[-1][0:2]=='02':\n",
    "        winter_list.append(i)\n",
    "print(len(spring_list))\n",
    "print(len(summer_list))\n",
    "print(len(fall_list))\n",
    "print(len(winter_list))"
   ]
  },
  {
   "cell_type": "code",
   "execution_count": null,
   "id": "dc824047",
   "metadata": {},
   "outputs": [],
   "source": [
    "name=['TIME OCC', 'Crm Cd', 'Crm Cd Desc', 'Weapon Used Cd', 'DATE']\n",
    "spring_csv=pd.DataFrame(columns=name, data=spring_list)\n",
    "summer_csv=pd.DataFrame(columns=name, data=summer_list)\n",
    "fall_csv=pd.DataFrame(columns=name, data=fall_list)\n",
    "winter_csv=pd.DataFrame(columns=name, data=winter_list)\n",
    "\n",
    "spring_csv.to_csv(\"data/time/season/Crime_Data_spring_time.csv\",index=0)\n",
    "summer_csv.to_csv(\"data/time/season/Crime_Data_summer_time.csv\",index=0)\n",
    "fall_csv.to_csv(\"data/time/season/Crime_Data_fall_time.csv\",index=0)\n",
    "winter_csv.to_csv(\"data/time/season/Crime_Data_winter_time.csv\",index=0)"
   ]
  },
  {
   "cell_type": "code",
   "execution_count": null,
   "id": "744d649b",
   "metadata": {},
   "outputs": [],
   "source": [
    "weekdays_list=[]\n",
    "weekends_list=[]\n",
    "\n",
    "for i in data_list:\n",
    "    year=int(i[-1][-4:])\n",
    "    month=int(i[-1][0:2])\n",
    "    day=int(i[-1][3:5])\n",
    "    if cd.weekday(year,month,day)==0 or cd.weekday(year,month,day)==1 or cd.weekday(year,month,day)==2 or cd.weekday(year,month,day)==3 or cd.weekday(year,month,day)==4:\n",
    "        weekdays_list.append(i)\n",
    "    elif cd.weekday(year,month,day)==5 or cd.weekday(year,month,day)==6:\n",
    "        weekends_list.append(i)\n",
    "        \n",
    "print(len(weekdays_list))\n",
    "print(len(weekends_list))"
   ]
  },
  {
   "cell_type": "code",
   "execution_count": null,
   "id": "e989c418",
   "metadata": {},
   "outputs": [],
   "source": [
    "name=['TIME OCC', 'Crm Cd', 'Crm Cd Desc', 'Weapon Used Cd', 'DATE']\n",
    "weekdays_csv=pd.DataFrame(columns=name, data=weekdays_list)\n",
    "weekends_csv=pd.DataFrame(columns=name, data=weekends_list)\n",
    "\n",
    "weekdays_csv.to_csv(\"data/time/week/Crime_Data_weekdays_time.csv\",index=0)\n",
    "weekends_csv.to_csv(\"data/time/week/Crime_Data_weekends_time.csv\",index=0)"
   ]
  },
  {
   "cell_type": "code",
   "execution_count": 8,
   "id": "94dee82f",
   "metadata": {},
   "outputs": [
    {
     "name": "stdout",
     "output_type": "stream",
     "text": [
      "<class 'pandas.core.frame.DataFrame'>\n",
      "RangeIndex: 2060948 entries, 0 to 2060947\n",
      "Data columns (total 8 columns):\n",
      " #   Column          Dtype  \n",
      "---  ------          -----  \n",
      " 0   TIME OCC        int64  \n",
      " 1   Crm Cd          int64  \n",
      " 2   Crm Cd Desc     object \n",
      " 3   Weapon Used Cd  float64\n",
      " 4   Weapon Desc     object \n",
      " 5   DATE            object \n",
      " 6   WEEK            object \n",
      " 7   DAYTIME         object \n",
      "dtypes: float64(1), int64(2), object(5)\n",
      "memory usage: 125.8+ MB\n"
     ]
    }
   ],
   "source": [
    "day=[]\n",
    "\n",
    "for i in data_list:\n",
    "    if 400<i[0]<=700:\n",
    "        day.append(\"Dawn\")\n",
    "    elif 700<i[0]<=1100:\n",
    "        day.append(\"Morning\")\n",
    "    elif 1100<i[0]<=1400:\n",
    "        day.append(\"Noon\")\n",
    "    elif 1400<i[0]<=1800:\n",
    "        day.append(\"Afternoon\")\n",
    "    elif 1800<i[0]<=2100:\n",
    "        day.append(\"Dusk\")\n",
    "    elif (2100<i[0]<=2400 or i[0]==0):\n",
    "        day.append(\"Evening\")\n",
    "    else:\n",
    "        day.append(\"Midnight\")\n",
    "        \n",
    "data['DAYTIME']=day\n",
    "data.info()"
   ]
  },
  {
   "cell_type": "code",
   "execution_count": 9,
   "id": "9b8e99ad",
   "metadata": {},
   "outputs": [],
   "source": [
    "data.to_csv(\"data/Crime_Data_from_2010_to_2019.csv\",index=0)"
   ]
  },
  {
   "cell_type": "code",
   "execution_count": null,
   "id": "2097cb69",
   "metadata": {},
   "outputs": [],
   "source": []
  }
 ],
 "metadata": {
  "kernelspec": {
   "display_name": "Python 3",
   "language": "python",
   "name": "python3"
  },
  "language_info": {
   "codemirror_mode": {
    "name": "ipython",
    "version": 3
   },
   "file_extension": ".py",
   "mimetype": "text/x-python",
   "name": "python",
   "nbconvert_exporter": "python",
   "pygments_lexer": "ipython3",
   "version": "3.8.8"
  }
 },
 "nbformat": 4,
 "nbformat_minor": 5
}
